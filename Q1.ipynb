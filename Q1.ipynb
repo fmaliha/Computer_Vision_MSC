{
  "nbformat": 4,
  "nbformat_minor": 0,
  "metadata": {
    "colab": {
      "name": "Q1.ipynb",
      "provenance": []
    },
    "kernelspec": {
      "name": "python3",
      "display_name": "Python 3"
    },
    "language_info": {
      "name": "python"
    }
  },
  "cells": [
    {
      "cell_type": "code",
      "source": [
        "#Bubble Sort\n",
        "\n",
        "data = [2, 1, 5, 4, 3]\n",
        "def swap(i,j):\n",
        "    data[j], data[j + 1] = data[j + 1], data[j]\n",
        "    print(f\"i={i}  j={j} {data}\")\n",
        "def bubble_sort(x):\n",
        "    global data\n",
        "    data = x\n",
        "    [swap(i,j) for i in range(len(data)) for j in range(len(data) - 1) if data[j] > data[j + 1]]\n",
        "\n",
        "a_list = [64, 34, 25, 12, 22, 11, 90,99,76,41]\n",
        "\n",
        "bubble_sort(a_list)\n",
        "\n",
        "print(data)\n"
      ],
      "metadata": {
        "colab": {
          "base_uri": "https://localhost:8080/"
        },
        "id": "NeTrEUmwvn0t",
        "outputId": "0ab4f321-870a-4d5d-8dbe-f0aa454a9dcb"
      },
      "execution_count": 23,
      "outputs": [
        {
          "output_type": "stream",
          "name": "stdout",
          "text": [
            "i=0  j=0 [34, 64, 25, 12, 22, 11, 90, 99, 76, 41]\n",
            "i=0  j=1 [34, 25, 64, 12, 22, 11, 90, 99, 76, 41]\n",
            "i=0  j=2 [34, 25, 12, 64, 22, 11, 90, 99, 76, 41]\n",
            "i=0  j=3 [34, 25, 12, 22, 64, 11, 90, 99, 76, 41]\n",
            "i=0  j=4 [34, 25, 12, 22, 11, 64, 90, 99, 76, 41]\n",
            "i=0  j=7 [34, 25, 12, 22, 11, 64, 90, 76, 99, 41]\n",
            "i=0  j=8 [34, 25, 12, 22, 11, 64, 90, 76, 41, 99]\n",
            "i=1  j=0 [25, 34, 12, 22, 11, 64, 90, 76, 41, 99]\n",
            "i=1  j=1 [25, 12, 34, 22, 11, 64, 90, 76, 41, 99]\n",
            "i=1  j=2 [25, 12, 22, 34, 11, 64, 90, 76, 41, 99]\n",
            "i=1  j=3 [25, 12, 22, 11, 34, 64, 90, 76, 41, 99]\n",
            "i=1  j=6 [25, 12, 22, 11, 34, 64, 76, 90, 41, 99]\n",
            "i=1  j=7 [25, 12, 22, 11, 34, 64, 76, 41, 90, 99]\n",
            "i=2  j=0 [12, 25, 22, 11, 34, 64, 76, 41, 90, 99]\n",
            "i=2  j=1 [12, 22, 25, 11, 34, 64, 76, 41, 90, 99]\n",
            "i=2  j=2 [12, 22, 11, 25, 34, 64, 76, 41, 90, 99]\n",
            "i=2  j=6 [12, 22, 11, 25, 34, 64, 41, 76, 90, 99]\n",
            "i=3  j=1 [12, 11, 22, 25, 34, 64, 41, 76, 90, 99]\n",
            "i=3  j=5 [12, 11, 22, 25, 34, 41, 64, 76, 90, 99]\n",
            "i=4  j=0 [11, 12, 22, 25, 34, 41, 64, 76, 90, 99]\n",
            "[11, 12, 22, 25, 34, 41, 64, 76, 90, 99]\n"
          ]
        }
      ]
    },
    {
      "cell_type": "code",
      "source": [
        ""
      ],
      "metadata": {
        "id": "WDN7N5LN3CNT"
      },
      "execution_count": null,
      "outputs": []
    },
    {
      "cell_type": "code",
      "source": [
        "# MergeSort\n",
        "\n",
        "\n",
        "def merge(arr, l, m, r):\n",
        "\tn1 = m - l + 1\n",
        "\tn2 = r - m\n",
        "\n",
        "\t\n",
        "\tL = [0] * (n1)\n",
        "\tR = [0] * (n2)\n",
        "\n",
        "\n",
        "\tfor i in range(0, n1):\n",
        "\t\tL[i] = arr[l + i]\n",
        "\n",
        "\tfor j in range(0, n2):\n",
        "\t\tR[j] = arr[m + 1 + j]\n",
        "\n",
        "\n",
        "\ti = 0\t \n",
        "\tj = 0\t \n",
        "\tk = l\t\n",
        "\n",
        "\twhile i < n1 and j < n2:\n",
        "\t\tif L[i] <= R[j]:\n",
        "\t\t\tarr[k] = L[i]\n",
        "\t\t\ti += 1\n",
        "\t\telse:\n",
        "\t\t\tarr[k] = R[j]\n",
        "\t\t\tj += 1\n",
        "\t\tk += 1\n",
        "\n",
        "\n",
        "\twhile i < n1:\n",
        "\t\tarr[k] = L[i]\n",
        "\t\ti += 1\n",
        "\t\tk += 1\n",
        "\n",
        "\n",
        "\twhile j < n2:\n",
        "\t\tarr[k] = R[j]\n",
        "\t\tj += 1\n",
        "\t\tk += 1\n",
        "\n",
        "\n",
        "def mergeSort(arr, l, r):\n",
        "\tif l < r:\n",
        "\n",
        "\t\tm = l+(r-l)//2\n",
        "\n",
        "\t\tmergeSort(arr, l, m)\n",
        "\t\tmergeSort(arr, m+1, r)\n",
        "\t\tmerge(arr, l, m, r)\n",
        "\n",
        "\n",
        "arr = [64, 34, 25, 12, 22, 11, 90,99,76,41]\n",
        "n = len(arr)\n",
        "\n",
        "mergeSort(arr, 0, n-1)\n",
        "print(\"Sorted array is\")\n",
        "for i in range(n):\n",
        "\tprint(\"%d\" % arr[i],end=\" \")\n",
        "\n",
        "\n"
      ],
      "metadata": {
        "colab": {
          "base_uri": "https://localhost:8080/"
        },
        "id": "nafN9Ng8xtUH",
        "outputId": "a1b5fb2f-3724-48e4-b6f5-ba5c8917f4d2"
      },
      "execution_count": 20,
      "outputs": [
        {
          "output_type": "stream",
          "name": "stdout",
          "text": [
            "Sorted array is\n",
            "11 12 22 25 34 41 64 76 90 99 "
          ]
        }
      ]
    }
  ]
}