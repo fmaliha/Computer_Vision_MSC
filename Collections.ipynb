{
 "cells": [
  {
   "cell_type": "markdown",
   "id": "90248eb2",
   "metadata": {},
   "source": [
    "# Python Lists, Tuples, Dictionaries, sets"
   ]
  },
  {
   "cell_type": "markdown",
   "id": "0fdb3620",
   "metadata": {},
   "source": [
    "# List\n",
    "1. items are stored sequentially\n",
    "2. Lists are mutable\n",
    "3. can hold on to different data types\n",
    "4. use square brackets [] to create a list"
   ]
  },
  {
   "cell_type": "markdown",
   "id": "350415f2",
   "metadata": {},
   "source": [
    "# Tuple\n",
    "1. ordered list of values\n",
    "2. immutable\n",
    "3. in many ways, it is simillar to a list; one of the most important difference is that tuples can be used as KEYs in a dictionary or elements of a SET.\n",
    "4. use () to create a tuple"
   ]
  },
  {
   "cell_type": "markdown",
   "id": "ab5bd418",
   "metadata": {},
   "source": [
    "For a Python program, lists and tuples are very similar. It is possible to get by as a programmer using only lists and ignoring tuples. Both lists and tuples hold an ordered collection of items.\n",
    "\n",
    "The primary difference that you will see syntactically is that a list is enclosed by square braces [] and a tuple is enclosed by parenthesis (). "
   ]
  },
  {
   "cell_type": "code",
   "execution_count": null,
   "id": "b41d0770",
   "metadata": {},
   "outputs": [],
   "source": [
    "l = ['a', 'b' , 1, 2]\n",
    "t = (3.3,4.7, 'c' , 'd')\n",
    "\n",
    "print(l)\n",
    "print(t)"
   ]
  },
  {
   "cell_type": "code",
   "execution_count": 2,
   "id": "a288750d",
   "metadata": {},
   "outputs": [
    {
     "name": "stdout",
     "output_type": "stream",
     "text": [
      "1 4.7 4.7\n"
     ]
    }
   ],
   "source": [
    "print(l[2], t[1], t[-3])"
   ]
  },
  {
   "cell_type": "code",
   "execution_count": 7,
   "id": "32f96918",
   "metadata": {},
   "outputs": [
    {
     "name": "stdout",
     "output_type": "stream",
     "text": [
      "3.3\n",
      "4.7\n",
      "c\n",
      "d\n"
     ]
    }
   ],
   "source": [
    "for i in t:\n",
    "    print(i)"
   ]
  },
  {
   "cell_type": "markdown",
   "id": "1092f52c",
   "metadata": {},
   "source": [
    "for index, element in enumerate(num_list):\n",
    "    print(index, element)"
   ]
  },
  {
   "cell_type": "code",
   "execution_count": 9,
   "id": "12a72943",
   "metadata": {},
   "outputs": [
    {
     "name": "stdout",
     "output_type": "stream",
     "text": [
      "0:a\n",
      "1:b\n",
      "2:1\n",
      "3:2\n"
     ]
    }
   ],
   "source": [
    "for i,v in enumerate(l):\n",
    "    print(f\"{i}:{v}\")"
   ]
  },
  {
   "cell_type": "code",
   "execution_count": 14,
   "id": "17a32330",
   "metadata": {},
   "outputs": [
    {
     "name": "stdout",
     "output_type": "stream",
     "text": [
      "['a', 'b', 'c', 'c']\n"
     ]
    }
   ],
   "source": [
    "c= []\n",
    "c.append('a')\n",
    "c.append('b')\n",
    "c.append('c')\n",
    "c.append('c')\n",
    "print(c)"
   ]
  },
  {
   "cell_type": "code",
   "execution_count": 20,
   "id": "b3d8494e",
   "metadata": {},
   "outputs": [
    {
     "name": "stdout",
     "output_type": "stream",
     "text": [
      "['a', 'b', 'c', 'b']\n"
     ]
    }
   ],
   "source": [
    "c = ['a','b','c','b']\n",
    "print(c)"
   ]
  },
  {
   "cell_type": "code",
   "execution_count": 21,
   "id": "33797b82",
   "metadata": {},
   "outputs": [
    {
     "name": "stdout",
     "output_type": "stream",
     "text": [
      "['0a', 'a', 'b', 'c', 'b']\n"
     ]
    }
   ],
   "source": [
    "#Insert\n",
    "c.insert(0,'0a')\n",
    "print(c)"
   ]
  },
  {
   "cell_type": "code",
   "execution_count": 22,
   "id": "1d54aa4f",
   "metadata": {},
   "outputs": [
    {
     "name": "stdout",
     "output_type": "stream",
     "text": [
      "['0a', 'a', 'c', 'b']\n"
     ]
    }
   ],
   "source": [
    "#remove\n",
    "c.remove('b')\n",
    "print(c)"
   ]
  },
  {
   "cell_type": "code",
   "execution_count": 23,
   "id": "0a8ffb2a",
   "metadata": {},
   "outputs": [
    {
     "name": "stdout",
     "output_type": "stream",
     "text": [
      "['a', 'c', 'b']\n"
     ]
    }
   ],
   "source": [
    "#remove at index\n",
    "del c[0]\n",
    "print(c)"
   ]
  },
  {
   "cell_type": "code",
   "execution_count": 24,
   "id": "f93b6a81",
   "metadata": {},
   "outputs": [
    {
     "name": "stdout",
     "output_type": "stream",
     "text": [
      "[['a', 'b', 'c'], [1, 2, 3, 4, 5, 6], ['one', '2']]\n"
     ]
    }
   ],
   "source": [
    "Listoflists= [\n",
    "    ['a','b','c'],\n",
    "    [1,2,3,4,5,6],\n",
    "    ['one','2']\n",
    "]\n",
    "print(Listoflists)"
   ]
  },
  {
   "cell_type": "code",
   "execution_count": 27,
   "id": "64c36905",
   "metadata": {},
   "outputs": [
    {
     "name": "stdout",
     "output_type": "stream",
     "text": [
      "1\n",
      "2\n",
      "b\n",
      "2\n",
      "one\n",
      "3\n",
      "2\n",
      "a\n"
     ]
    }
   ],
   "source": [
    "print(Listoflists[1][0])\n",
    "print(Listoflists[2][1])\n",
    "print(Listoflists[0][1])\n",
    "print(Listoflists[2][0])\n",
    "print(Listoflists[1][2])\n",
    "print(Listoflists[1][1])\n",
    "print(Listoflists[0][0])\n"
   ]
  },
  {
   "cell_type": "markdown",
   "id": "b17bd452",
   "metadata": {},
   "source": [
    "# Sets"
   ]
  },
  {
   "cell_type": "markdown",
   "id": "06d35bce",
   "metadata": {},
   "source": [
    "1. A Python set holds an unordered collection of objects\n",
    "2. but sets do not allow duplicates. \n",
    "If a program adds a duplicate item to a set, only one copy of each item remains in the collection.\n",
    "Adding a duplicate item to a set does not result in an error. Any of the following techniques will define a set.\n",
    "\n",
    "1. A list is always enclosed in square braces [],\n",
    "2. a tuple in parenthesis (),\n",
    "3. encloses a set in curly braces. \n",
    "Programs can add items to a set as they run. \n",
    "Programs can dynamically add items to a set with the add function. \n",
    "*****It is important to note that the append function adds items to lists and tuples,\n",
    "*********whereas the add function adds items to a set."
   ]
  },
  {
   "cell_type": "code",
   "execution_count": 28,
   "id": "bbf7b587",
   "metadata": {
    "scrolled": true
   },
   "outputs": [
    {
     "name": "stdout",
     "output_type": "stream",
     "text": [
      "{'MBA', 'CSE', 'BBA', 'EEE', 'Architecture'} <class 'set'>\n"
     ]
    }
   ],
   "source": [
    "depts = {\"MBA\",\"EEE\", \"CSE\", \"BBA\", \"Architecture\"}\n",
    "print(depts,type(depts))"
   ]
  },
  {
   "cell_type": "code",
   "execution_count": 30,
   "id": "f6f2040e",
   "metadata": {},
   "outputs": [
    {
     "name": "stdout",
     "output_type": "stream",
     "text": [
      "{'MBA', 'CS', 'CSE', 'BBA', 'EEE', 'Architecture'}\n"
     ]
    }
   ],
   "source": [
    "depts.add(\"CS\")\n",
    "print(depts)"
   ]
  },
  {
   "cell_type": "code",
   "execution_count": 31,
   "id": "252b4e3d",
   "metadata": {},
   "outputs": [
    {
     "name": "stdout",
     "output_type": "stream",
     "text": [
      "{'MBA', 'CS', 'CSE', 'BBA', 'EEE', 'Arch', 'Architecture'}\n"
     ]
    }
   ],
   "source": [
    "depts.add(\"Arch\")\n",
    "print(depts)"
   ]
  },
  {
   "cell_type": "code",
   "execution_count": 35,
   "id": "eeb6acb5",
   "metadata": {},
   "outputs": [
    {
     "name": "stdout",
     "output_type": "stream",
     "text": [
      "{'MBA', 'CS', 'CSE', 'BBA', 'EEE', 'Arch', 'BA', 'Architecture'}\n"
     ]
    }
   ],
   "source": [
    "depts.add(\"BA\")\n",
    "print(depts)"
   ]
  },
  {
   "cell_type": "code",
   "execution_count": 36,
   "id": "cf260710",
   "metadata": {},
   "outputs": [
    {
     "name": "stdout",
     "output_type": "stream",
     "text": [
      "{'MBA', 'CS', 'CSE', 'BBA', 'EEE', 'Arch', 'Architecture'}\n"
     ]
    }
   ],
   "source": [
    "depts.remove(\"BA\")\n",
    "print(depts)"
   ]
  },
  {
   "cell_type": "code",
   "execution_count": 37,
   "id": "ce99efd4",
   "metadata": {},
   "outputs": [
    {
     "data": {
      "text/plain": [
       "True"
      ]
     },
     "execution_count": 37,
     "metadata": {},
     "output_type": "execute_result"
    }
   ],
   "source": [
    "\"CS\" in depts"
   ]
  },
  {
   "cell_type": "code",
   "execution_count": 38,
   "id": "d8d7a357",
   "metadata": {},
   "outputs": [
    {
     "data": {
      "text/plain": [
       "False"
      ]
     },
     "execution_count": 38,
     "metadata": {},
     "output_type": "execute_result"
    }
   ],
   "source": [
    "\"BA\" in depts"
   ]
  },
  {
   "cell_type": "markdown",
   "id": "7730ebdf",
   "metadata": {},
   "source": [
    "### Maps/Dictionaries/Hash Tables"
   ]
  },
  {
   "cell_type": "markdown",
   "id": "63870bcc",
   "metadata": {},
   "source": [
    "Python provides a dictionary, that is essentially a collection of name-value pairs. Programs define dictionaries using curly-braces, as seen here."
   ]
  },
  {
   "cell_type": "code",
   "execution_count": 2,
   "id": "86457b97",
   "metadata": {},
   "outputs": [
    {
     "name": "stdout",
     "output_type": "stream",
     "text": [
      "{'a': 22.21, 'b': 32, 'c': 88.7} <class 'dict'>\n"
     ]
    }
   ],
   "source": [
    "abc = {'a':22.21, 'b':32, 'c':88.70}\n",
    "print(abc,type(abc))"
   ]
  },
  {
   "cell_type": "code",
   "execution_count": 3,
   "id": "fc749635",
   "metadata": {},
   "outputs": [
    {
     "name": "stdout",
     "output_type": "stream",
     "text": [
      "22.21\n"
     ]
    }
   ],
   "source": [
    "print(abc['a'])"
   ]
  },
  {
   "cell_type": "markdown",
   "id": "ce945a55",
   "metadata": {},
   "source": [
    "dictionary.get(keyname, value) // value is optional"
   ]
  },
  {
   "cell_type": "code",
   "execution_count": 6,
   "id": "0c941803",
   "metadata": {},
   "outputs": [
    {
     "data": {
      "text/plain": [
       "22.21"
      ]
     },
     "execution_count": 6,
     "metadata": {},
     "output_type": "execute_result"
    }
   ],
   "source": [
    "abc.get('a', 'default')"
   ]
  },
  {
   "cell_type": "code",
   "execution_count": 8,
   "id": "e80ea3d0",
   "metadata": {},
   "outputs": [
    {
     "name": "stdout",
     "output_type": "stream",
     "text": [
      "values: dict_values([22.21, 32, 88.7])\n"
     ]
    }
   ],
   "source": [
    "print(f\"values: {abc.values()}\")"
   ]
  },
  {
   "cell_type": "code",
   "execution_count": 15,
   "id": "398a4b52",
   "metadata": {},
   "outputs": [
    {
     "name": "stdout",
     "output_type": "stream",
     "text": [
      "person\n",
      "cat\n",
      "dog\n",
      "kitten\n",
      "{'person': 2, 'cat': 4, 'dog': 4, 'kitten': 4}\n",
      "{'person': 2, 'cat': 4, 'dog': 4, 'kitten': 4}\n",
      "{'person': 2, 'cat': 4, 'dog': 4, 'kitten': 4}\n",
      "{'person': 2, 'cat': 4, 'dog': 4, 'kitten': 4}\n"
     ]
    }
   ],
   "source": [
    "d = {'person':2, 'cat': 4, 'dog':4, 'kitten':4}\n",
    "for c in d:\n",
    "    print(c)\n",
    "    \n",
    "    d = {'person':2, 'cat': 4, 'dog':4, 'kitten':4}\n",
    "for c in d:\n",
    "    print(d)"
   ]
  },
  {
   "cell_type": "code",
   "execution_count": 16,
   "id": "4f7de2c0",
   "metadata": {},
   "outputs": [
    {
     "name": "stdout",
     "output_type": "stream",
     "text": [
      "A person has 2 legs\n",
      "A cat has 4 legs\n",
      "A dog has 4 legs\n",
      "A kitten has 4 legs\n",
      "A {'person': 2, 'cat': 4, 'dog': 4, 'kitten': 4} has 2 legs\n",
      "A {'person': 2, 'cat': 4, 'dog': 4, 'kitten': 4} has 4 legs\n",
      "A {'person': 2, 'cat': 4, 'dog': 4, 'kitten': 4} has 4 legs\n",
      "A {'person': 2, 'cat': 4, 'dog': 4, 'kitten': 4} has 4 legs\n"
     ]
    }
   ],
   "source": [
    "for c in d:\n",
    "    legs = d[c]\n",
    "    print('A %s has %d legs' % (c,legs))\n",
    "    \n",
    "for c in d:\n",
    "    legs = d[c]\n",
    "    print('A %s has %d legs' % (d,legs))"
   ]
  },
  {
   "cell_type": "markdown",
   "id": "c81fc48e",
   "metadata": {},
   "source": [
    "#### Advanced Operations"
   ]
  },
  {
   "cell_type": "code",
   "execution_count": 19,
   "id": "dfa4961a",
   "metadata": {},
   "outputs": [
    {
     "name": "stdout",
     "output_type": "stream",
     "text": [
      "[1, 2, 3]\n",
      "[1, 2]\n",
      "[4, 5, 6]\n",
      "[1, 2, 3, 4, 5]\n",
      "[3, 4]\n"
     ]
    }
   ],
   "source": [
    "a = [1,2,3,4,5,6,]\n",
    "print(a[0:3])\n",
    "print(a[:2])\n",
    "print(a[3:])\n",
    "print(a[:-1])\n",
    "print(a[2:-2])"
   ]
  },
  {
   "cell_type": "code",
   "execution_count": 32,
   "id": "c48bfeea",
   "metadata": {},
   "outputs": [
    {
     "name": "stdout",
     "output_type": "stream",
     "text": [
      "((1, 5), (2, 4), (3, 3), (4, 2), (5, 1))\n"
     ]
    }
   ],
   "source": [
    "a = [1,2,3,4,5]\n",
    "b=[5,4,3,2,1]\n",
    "#joining tuples-ZIP\n",
    "z= zip(a,b)\n",
    "#print(z) \n",
    "#print(list(z))\n",
    "#tupl not working at the same timea frer list\n",
    "print(tuple(z))\n"
   ]
  },
  {
   "cell_type": "code",
   "execution_count": 33,
   "id": "e1357acc",
   "metadata": {},
   "outputs": [
    {
     "name": "stdout",
     "output_type": "stream",
     "text": [
      "1 - 5 ==> -4\n",
      "2 - 4 ==> -2\n",
      "3 - 3 ==> 0\n",
      "4 - 2 ==> 2\n",
      "5 - 1 ==> 4\n"
     ]
    }
   ],
   "source": [
    "for x,y in zip(a,b):\n",
    "    print(f'{x} - {y} ==> {x-y}')"
   ]
  },
  {
   "cell_type": "code",
   "execution_count": 34,
   "id": "59c26586",
   "metadata": {},
   "outputs": [
    {
     "name": "stdout",
     "output_type": "stream",
     "text": [
      "[(1, 5), (2, 4), (3, 3)]\n"
     ]
    }
   ],
   "source": [
    "a = [1,2,3,4,5]\n",
    "b = [5,4,3]\n",
    "\n",
    "print(list(zip(a,b)))"
   ]
  },
  {
   "cell_type": "code",
   "execution_count": 36,
   "id": "c0b1f1c1",
   "metadata": {},
   "outputs": [
    {
     "name": "stdout",
     "output_type": "stream",
     "text": [
      "[0, 1, 4, 9, 16, 25, 36, 49, 64, 81]\n"
     ]
    }
   ],
   "source": [
    "arr1 = [0,1,2,3,4,5,6,7,8,9]\n",
    "arr2 = []\n",
    "# avoid doing tis!!\n",
    "for a in arr1:\n",
    "    arr2.append(a**2)\n",
    "print(arr2)"
   ]
  },
  {
   "cell_type": "markdown",
   "id": "693280f1",
   "metadata": {},
   "source": [
    "### List Comprehension"
   ]
  },
  {
   "cell_type": "code",
   "execution_count": 37,
   "id": "83c56aae",
   "metadata": {},
   "outputs": [
    {
     "name": "stdout",
     "output_type": "stream",
     "text": [
      "[0, 1, 2, 3, 4, 5, 6, 7, 8, 9]\n"
     ]
    }
   ],
   "source": [
    "arr1 = [0,1,2,3,4,5,6,7,8,9]\n",
    "arr1_copy = [i for i in arr1]\n",
    "print(arr1_copy)"
   ]
  },
  {
   "cell_type": "code",
   "execution_count": 38,
   "id": "51c9b404",
   "metadata": {},
   "outputs": [
    {
     "name": "stdout",
     "output_type": "stream",
     "text": [
      "[0, 1, 4, 9, 16, 25, 36, 49, 64, 81]\n"
     ]
    }
   ],
   "source": [
    "sq = [a**2 for a in arr1]\n",
    "print(sq)"
   ]
  },
  {
   "cell_type": "code",
   "execution_count": 46,
   "id": "3a368d21",
   "metadata": {},
   "outputs": [
    {
     "name": "stdout",
     "output_type": "stream",
     "text": [
      "[0, 2, 4, 6, 8]\n",
      "[0, 4, 16, 36, 64]\n"
     ]
    }
   ],
   "source": [
    "#if x is divisible by 2 , multiply that num \n",
    "#x**2 is x-sq if it`s divisble\n",
    "sq_even = [x for x in arr1 if x%2 == 0]\n",
    "print(sq_even)\n",
    "sq_even = [x**2 for x in arr1 if x%2 == 0]\n",
    "print(sq_even)"
   ]
  },
  {
   "cell_type": "code",
   "execution_count": 47,
   "id": "27311527",
   "metadata": {},
   "outputs": [
    {
     "name": "stdout",
     "output_type": "stream",
     "text": [
      "{(0, 0): (0, 0), (1, 1): (1, 1), (2, 2): (2, 4), (3, 3): (3, 9), (4, 4): (4, 16), (5, 5): (5, 25), (6, 6): (6, 36), (7, 7): (7, 49), (8, 8): (8, 64), (9, 9): (9, 81)}\n"
     ]
    }
   ],
   "source": [
    "d = {(a,a): (a,a**2) for a in range(10)}\n",
    "print(d)"
   ]
  },
  {
   "cell_type": "code",
   "execution_count": 48,
   "id": "3d8b813a",
   "metadata": {},
   "outputs": [
    {
     "name": "stdout",
     "output_type": "stream",
     "text": [
      "(5, 25)\n"
     ]
    }
   ],
   "source": [
    "print(d[5,5])"
   ]
  },
  {
   "cell_type": "code",
   "execution_count": null,
   "id": "8eaaed8e",
   "metadata": {},
   "outputs": [],
   "source": []
  }
 ],
 "metadata": {
  "kernelspec": {
   "display_name": "cvpr",
   "language": "python",
   "name": "cvpr"
  },
  "language_info": {
   "codemirror_mode": {
    "name": "ipython",
    "version": 3
   },
   "file_extension": ".py",
   "mimetype": "text/x-python",
   "name": "python",
   "nbconvert_exporter": "python",
   "pygments_lexer": "ipython3",
   "version": "3.8.12"
  }
 },
 "nbformat": 4,
 "nbformat_minor": 5
}
